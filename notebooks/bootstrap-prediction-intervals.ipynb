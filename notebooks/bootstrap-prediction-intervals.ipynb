{
 "cells": [
  {
   "cell_type": "markdown",
   "metadata": {},
   "source": [
    "Machine learning models typically focus on summary metrics for model performance and accuracy. In a regression setting these metrics are typically RMSE, MSE, etc.\n",
    "\n",
    "The predictions to these models are almost never correct, meaning $y-\\hat{y} \\ne 0$. \n",
    "\n",
    "But for any given prediction, summary metrics don't inform how close that one is likely to be, or what kind of uncertainty is involved.\n",
    "\n",
    "I solved for theis problem once before, and due to the nature of the work I can't share that exact example.\n",
    "\n",
    "But I can recreate it on a common dataset to highlight its effectiveness.\n",
    "\n",
    "The process is called bootstrap prediction intervals, and is adapted "
   ]
  },
  {
   "cell_type": "code",
   "execution_count": null,
   "metadata": {},
   "outputs": [],
   "source": []
  }
 ],
 "metadata": {
  "kernelspec": {
   "display_name": "Python 3",
   "language": "python",
   "name": "python3"
  },
  "language_info": {
   "codemirror_mode": {
    "name": "ipython",
    "version": 3
   },
   "file_extension": ".py",
   "mimetype": "text/x-python",
   "name": "python",
   "nbconvert_exporter": "python",
   "pygments_lexer": "ipython3",
   "version": "3.8.10"
  }
 },
 "nbformat": 4,
 "nbformat_minor": 4
}
